{
 "cells": [
  {
   "cell_type": "code",
   "execution_count": 1,
   "id": "3b09ac86",
   "metadata": {},
   "outputs": [
    {
     "name": "stdout",
     "output_type": "stream",
     "text": [
      "YF.download() has changed argument auto_adjust default to True\n"
     ]
    },
    {
     "name": "stderr",
     "output_type": "stream",
     "text": [
      "[*********************100%***********************]  1 of 1 completed"
     ]
    },
    {
     "name": "stdout",
     "output_type": "stream",
     "text": [
      "MultiIndex([( 'Close', 'SUZLON.NS'),\n",
      "            (  'High', 'SUZLON.NS'),\n",
      "            (   'Low', 'SUZLON.NS'),\n",
      "            (  'Open', 'SUZLON.NS'),\n",
      "            ('Volume', 'SUZLON.NS')],\n",
      "           names=['Price', 'Ticker'])\n",
      "Daily Volatility: 0.0309\n",
      "Annualized Volatility: 49.12%\n"
     ]
    },
    {
     "name": "stderr",
     "output_type": "stream",
     "text": [
      "\n"
     ]
    }
   ],
   "source": [
    "import yfinance as yf\n",
    "import numpy as np\n",
    "\n",
    "# Download historical data\n",
    "data = yf.download(\"SUZLON.NS\", start=\"2023-01-01\", end=\"2025-05-01\")\n",
    "\n",
    "# Print the column names to inspect the DataFrame structure\n",
    "print(data.columns)\n",
    "\n",
    "# Assuming the adjusted closing price column is named 'Close' based on common yfinance output for some tickers\n",
    "# If the printed output shows a different name, replace 'Close' with the correct name.\n",
    "data['Log Returns'] = np.log(data['Close'] / data['Close'].shift(1))\n",
    "\n",
    "# Daily volatility (standard deviation of daily log returns)\n",
    "daily_vol = data['Log Returns'].std()\n",
    "\n",
    "# Annualized volatility\n",
    "annual_vol = daily_vol * np.sqrt(252)\n",
    "\n",
    "print(f\"Daily Volatility: {daily_vol:.4f}\")\n",
    "print(f\"Annualized Volatility: {annual_vol:.2%}\")"
   ]
  },
  {
   "cell_type": "code",
   "execution_count": 2,
   "id": "bf6dffb4",
   "metadata": {},
   "outputs": [
    {
     "name": "stderr",
     "output_type": "stream",
     "text": [
      "[*********************100%***********************]  1 of 1 completed"
     ]
    },
    {
     "name": "stdout",
     "output_type": "stream",
     "text": [
      "MultiIndex([( 'Close', 'GICRE.NS'),\n",
      "            (  'High', 'GICRE.NS'),\n",
      "            (   'Low', 'GICRE.NS'),\n",
      "            (  'Open', 'GICRE.NS'),\n",
      "            ('Volume', 'GICRE.NS')],\n",
      "           names=['Price', 'Ticker'])\n",
      "Daily Volatility: 0.0310\n",
      "Annualized Volatility: 49.20%\n"
     ]
    },
    {
     "name": "stderr",
     "output_type": "stream",
     "text": [
      "\n"
     ]
    }
   ],
   "source": [
    "import yfinance as yf\n",
    "import numpy as np\n",
    "\n",
    "# Download historical data\n",
    "data = yf.download(\"GICRE.NS\", start=\"2023-01-01\", end=\"2025-05-01\")\n",
    "\n",
    "# Print the column names to inspect the DataFrame structure\n",
    "print(data.columns)\n",
    "\n",
    "# Assuming the adjusted closing price column is named 'Close' based on common yfinance output for some tickers\n",
    "# If the printed output shows a different name, replace 'Close' with the correct name.\n",
    "data['Log Returns'] = np.log(data['Close'] / data['Close'].shift(1))\n",
    "\n",
    "# Daily volatility (standard deviation of daily log returns)\n",
    "daily_vol = data['Log Returns'].std()\n",
    "\n",
    "# Annualized volatility\n",
    "annual_vol = daily_vol * np.sqrt(252)\n",
    "\n",
    "print(f\"Daily Volatility: {daily_vol:.4f}\")\n",
    "print(f\"Annualized Volatility: {annual_vol:.2%}\")"
   ]
  }
 ],
 "metadata": {
  "kernelspec": {
   "display_name": "Python 3 (ipykernel)",
   "language": "python",
   "name": "python3"
  },
  "language_info": {
   "codemirror_mode": {
    "name": "ipython",
    "version": 3
   },
   "file_extension": ".py",
   "mimetype": "text/x-python",
   "name": "python",
   "nbconvert_exporter": "python",
   "pygments_lexer": "ipython3",
   "version": "3.11.4"
  }
 },
 "nbformat": 4,
 "nbformat_minor": 5
}
